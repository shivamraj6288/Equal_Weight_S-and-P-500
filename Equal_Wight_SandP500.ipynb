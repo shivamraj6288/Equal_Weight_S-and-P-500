{
 "cells": [
  {
   "cell_type": "code",
   "execution_count": 1,
   "id": "overall-american",
   "metadata": {},
   "outputs": [],
   "source": [
    "import numpy as np\n",
    "import pandas as pd\n",
    "import requests\n",
    "import xlsxwriter\n",
    "import math"
   ]
  },
  {
   "cell_type": "code",
   "execution_count": 2,
   "id": "understanding-george",
   "metadata": {},
   "outputs": [],
   "source": [
    "#we should download the s&p file from some provider, but its paid\n",
    "# so we will use an offline copy downloaded from somewhere\n",
    "stocks=pd.read_csv('sp_500_stocks.csv')\n"
   ]
  },
  {
   "cell_type": "code",
   "execution_count": 3,
   "id": "painful-fleece",
   "metadata": {},
   "outputs": [
    {
     "data": {
      "text/html": [
       "<div>\n",
       "<style scoped>\n",
       "    .dataframe tbody tr th:only-of-type {\n",
       "        vertical-align: middle;\n",
       "    }\n",
       "\n",
       "    .dataframe tbody tr th {\n",
       "        vertical-align: top;\n",
       "    }\n",
       "\n",
       "    .dataframe thead th {\n",
       "        text-align: right;\n",
       "    }\n",
       "</style>\n",
       "<table border=\"1\" class=\"dataframe\">\n",
       "  <thead>\n",
       "    <tr style=\"text-align: right;\">\n",
       "      <th></th>\n",
       "      <th>Ticker</th>\n",
       "    </tr>\n",
       "  </thead>\n",
       "  <tbody>\n",
       "    <tr>\n",
       "      <th>0</th>\n",
       "      <td>A</td>\n",
       "    </tr>\n",
       "    <tr>\n",
       "      <th>1</th>\n",
       "      <td>AAL</td>\n",
       "    </tr>\n",
       "    <tr>\n",
       "      <th>2</th>\n",
       "      <td>AAP</td>\n",
       "    </tr>\n",
       "    <tr>\n",
       "      <th>3</th>\n",
       "      <td>AAPL</td>\n",
       "    </tr>\n",
       "    <tr>\n",
       "      <th>4</th>\n",
       "      <td>ABBV</td>\n",
       "    </tr>\n",
       "    <tr>\n",
       "      <th>...</th>\n",
       "      <td>...</td>\n",
       "    </tr>\n",
       "    <tr>\n",
       "      <th>500</th>\n",
       "      <td>YUM</td>\n",
       "    </tr>\n",
       "    <tr>\n",
       "      <th>501</th>\n",
       "      <td>ZBH</td>\n",
       "    </tr>\n",
       "    <tr>\n",
       "      <th>502</th>\n",
       "      <td>ZBRA</td>\n",
       "    </tr>\n",
       "    <tr>\n",
       "      <th>503</th>\n",
       "      <td>ZION</td>\n",
       "    </tr>\n",
       "    <tr>\n",
       "      <th>504</th>\n",
       "      <td>ZTS</td>\n",
       "    </tr>\n",
       "  </tbody>\n",
       "</table>\n",
       "<p>505 rows × 1 columns</p>\n",
       "</div>"
      ],
      "text/plain": [
       "    Ticker\n",
       "0        A\n",
       "1      AAL\n",
       "2      AAP\n",
       "3     AAPL\n",
       "4     ABBV\n",
       "..     ...\n",
       "500    YUM\n",
       "501    ZBH\n",
       "502   ZBRA\n",
       "503   ZION\n",
       "504    ZTS\n",
       "\n",
       "[505 rows x 1 columns]"
      ]
     },
     "execution_count": 3,
     "metadata": {},
     "output_type": "execute_result"
    }
   ],
   "source": [
    "stocks"
   ]
  },
  {
   "cell_type": "code",
   "execution_count": 4,
   "id": "august-outline",
   "metadata": {},
   "outputs": [],
   "source": [
    "from secrets import IEX_CLOUD_API_TOKEN"
   ]
  },
  {
   "cell_type": "code",
   "execution_count": 5,
   "id": "assisted-story",
   "metadata": {},
   "outputs": [],
   "source": []
  },
  {
   "cell_type": "code",
   "execution_count": 6,
   "id": "piano-whole",
   "metadata": {},
   "outputs": [],
   "source": []
  },
  {
   "cell_type": "code",
   "execution_count": 7,
   "id": "acute-monitoring",
   "metadata": {},
   "outputs": [],
   "source": []
  },
  {
   "cell_type": "code",
   "execution_count": 9,
   "id": "strategic-composition",
   "metadata": {},
   "outputs": [],
   "source": [
    "# price=data['latestPrice']\n",
    "# cap=data['marketCap']"
   ]
  },
  {
   "cell_type": "code",
   "execution_count": 10,
   "id": "bulgarian-quarter",
   "metadata": {},
   "outputs": [],
   "source": [
    "# print(price ,cap)"
   ]
  },
  {
   "cell_type": "code",
   "execution_count": 11,
   "id": "artificial-killer",
   "metadata": {},
   "outputs": [],
   "source": [
    "my_columns=['Ticker', 'StockPrice','MarketCap','NumStocksBuy']\n",
    "# final_dataframe=pd.DataFrame(columns=my_columns)\n",
    "# final_dataframe"
   ]
  },
  {
   "cell_type": "code",
   "execution_count": 12,
   "id": "previous-microphone",
   "metadata": {},
   "outputs": [],
   "source": [
    "# final_dataframe.append(\n",
    "# pd.Series([\n",
    "#     symbol,\n",
    "#     price,\n",
    "#     cap,\n",
    "#     'N/A'\n",
    "# ], index=my_columns),\n",
    "#     ignore_index=True\n",
    "# )"
   ]
  },
  {
   "cell_type": "code",
   "execution_count": 13,
   "id": "deadly-border",
   "metadata": {},
   "outputs": [],
   "source": [
    "version='stable'# can be 'latest'\n",
    "base_url=f'https://sandbox.iexapis.com/{version}'\n",
    "# final_dataframe=pd.DataFrame(columns=my_columns)\n",
    "# for stock in stocks['Ticker'][:5]:\n",
    "#     api_url=f'{base_url}/stock/{stock}/quote/?token={IEX_CLOUD_API_TOKEN}'\n",
    "#     data=requests.get(api_url).json()\n",
    "#     final_dataframe=final_dataframe.append(\n",
    "#     pd.Series(\n",
    "#     [\n",
    "#         stock,\n",
    "#         data['latestPrice'],\n",
    "#         data['marketCap'],\n",
    "#         'N/A'\n",
    "#     ],\n",
    "#         index=my_columns\n",
    "#     ),ignore_index=True\n",
    "#     )"
   ]
  },
  {
   "cell_type": "code",
   "execution_count": 14,
   "id": "exciting-technician",
   "metadata": {},
   "outputs": [],
   "source": [
    "# final_dataframe"
   ]
  },
  {
   "cell_type": "code",
   "execution_count": 15,
   "id": "exact-traveler",
   "metadata": {},
   "outputs": [],
   "source": [
    "#for making batch api calls\n",
    "def chunks(lst,n):\n",
    "    for i in range(0,len(lst),n):\n",
    "        yield lst[i:i+n]"
   ]
  },
  {
   "cell_type": "code",
   "execution_count": 16,
   "id": "frank-pastor",
   "metadata": {},
   "outputs": [],
   "source": [
    "symbol_groups=list(chunks(stocks['Ticker'],100))\n",
    "# symbol_groups\n",
    "symbol_strings=[]\n",
    "for i in range(0,len(symbol_groups)):\n",
    "    symbol_strings.append(','.join(symbol_groups[i]))\n",
    "# print (symbol_strings[0])"
   ]
  },
  {
   "cell_type": "code",
   "execution_count": 17,
   "id": "distinct-leather",
   "metadata": {},
   "outputs": [
    {
     "data": {
      "text/html": [
       "<div>\n",
       "<style scoped>\n",
       "    .dataframe tbody tr th:only-of-type {\n",
       "        vertical-align: middle;\n",
       "    }\n",
       "\n",
       "    .dataframe tbody tr th {\n",
       "        vertical-align: top;\n",
       "    }\n",
       "\n",
       "    .dataframe thead th {\n",
       "        text-align: right;\n",
       "    }\n",
       "</style>\n",
       "<table border=\"1\" class=\"dataframe\">\n",
       "  <thead>\n",
       "    <tr style=\"text-align: right;\">\n",
       "      <th></th>\n",
       "      <th>Ticker</th>\n",
       "      <th>StockPrice</th>\n",
       "      <th>MarketCap</th>\n",
       "      <th>NumStocksBuy</th>\n",
       "    </tr>\n",
       "  </thead>\n",
       "  <tbody>\n",
       "    <tr>\n",
       "      <th>0</th>\n",
       "      <td>A</td>\n",
       "      <td>127.12</td>\n",
       "      <td>39377158109</td>\n",
       "      <td>N/A</td>\n",
       "    </tr>\n",
       "    <tr>\n",
       "      <th>1</th>\n",
       "      <td>AAL</td>\n",
       "      <td>19.20</td>\n",
       "      <td>12424333250</td>\n",
       "      <td>N/A</td>\n",
       "    </tr>\n",
       "    <tr>\n",
       "      <th>2</th>\n",
       "      <td>AAP</td>\n",
       "      <td>172.22</td>\n",
       "      <td>11748895987</td>\n",
       "      <td>N/A</td>\n",
       "    </tr>\n",
       "    <tr>\n",
       "      <th>3</th>\n",
       "      <td>AAPL</td>\n",
       "      <td>130.28</td>\n",
       "      <td>2218903940435</td>\n",
       "      <td>N/A</td>\n",
       "    </tr>\n",
       "    <tr>\n",
       "      <th>4</th>\n",
       "      <td>ABBV</td>\n",
       "      <td>110.10</td>\n",
       "      <td>192732287986</td>\n",
       "      <td>N/A</td>\n",
       "    </tr>\n",
       "    <tr>\n",
       "      <th>...</th>\n",
       "      <td>...</td>\n",
       "      <td>...</td>\n",
       "      <td>...</td>\n",
       "      <td>...</td>\n",
       "    </tr>\n",
       "    <tr>\n",
       "      <th>500</th>\n",
       "      <td>YUM</td>\n",
       "      <td>109.38</td>\n",
       "      <td>33150197119</td>\n",
       "      <td>N/A</td>\n",
       "    </tr>\n",
       "    <tr>\n",
       "      <th>501</th>\n",
       "      <td>ZBH</td>\n",
       "      <td>163.37</td>\n",
       "      <td>32665976792</td>\n",
       "      <td>N/A</td>\n",
       "    </tr>\n",
       "    <tr>\n",
       "      <th>502</th>\n",
       "      <td>ZBRA</td>\n",
       "      <td>493.69</td>\n",
       "      <td>26395609827</td>\n",
       "      <td>N/A</td>\n",
       "    </tr>\n",
       "    <tr>\n",
       "      <th>503</th>\n",
       "      <td>ZION</td>\n",
       "      <td>54.30</td>\n",
       "      <td>8496597526</td>\n",
       "      <td>N/A</td>\n",
       "    </tr>\n",
       "    <tr>\n",
       "      <th>504</th>\n",
       "      <td>ZTS</td>\n",
       "      <td>166.00</td>\n",
       "      <td>77507031700</td>\n",
       "      <td>N/A</td>\n",
       "    </tr>\n",
       "  </tbody>\n",
       "</table>\n",
       "<p>505 rows × 4 columns</p>\n",
       "</div>"
      ],
      "text/plain": [
       "    Ticker  StockPrice      MarketCap NumStocksBuy\n",
       "0        A      127.12    39377158109          N/A\n",
       "1      AAL       19.20    12424333250          N/A\n",
       "2      AAP      172.22    11748895987          N/A\n",
       "3     AAPL      130.28  2218903940435          N/A\n",
       "4     ABBV      110.10   192732287986          N/A\n",
       "..     ...         ...            ...          ...\n",
       "500    YUM      109.38    33150197119          N/A\n",
       "501    ZBH      163.37    32665976792          N/A\n",
       "502   ZBRA      493.69    26395609827          N/A\n",
       "503   ZION       54.30     8496597526          N/A\n",
       "504    ZTS      166.00    77507031700          N/A\n",
       "\n",
       "[505 rows x 4 columns]"
      ]
     },
     "execution_count": 17,
     "metadata": {},
     "output_type": "execute_result"
    }
   ],
   "source": [
    "final_dataframe=pd.DataFrame(columns=my_columns)\n",
    "for symbol_string in symbol_strings:\n",
    "    batch_api_call_url=f'{base_url}/stock/market/batch?symbols={symbol_string}&types=quote&token={IEX_CLOUD_API_TOKEN}'\n",
    "    data=requests.get(batch_api_call_url).json()\n",
    "#     print(data.status_code)\n",
    "    for symbol in symbol_string.split(\",\"):\n",
    "        final_dataframe=final_dataframe.append(\n",
    "        pd.Series(\n",
    "        [\n",
    "            symbol,\n",
    "            data[symbol]['quote']['latestPrice'],\n",
    "            data[symbol]['quote']['marketCap'],\n",
    "            'N/A'\n",
    "        ], index=my_columns\n",
    "        ),ignore_index=True\n",
    "            \n",
    "        )\n",
    "final_dataframe  "
   ]
  },
  {
   "cell_type": "code",
   "execution_count": 27,
   "id": "hungry-fraction",
   "metadata": {},
   "outputs": [],
   "source": [
    "\n",
    "def enterSize():\n",
    "    portfolio_size=input('Enter the value of portfolio : ')\n",
    "    try:\n",
    "        psize=float(portfolio_size)\n",
    "        \n",
    "    except ValueError:\n",
    "        print(\"Please enter a number \\nPlease Try Again\\n\")\n",
    "        psize=stringToFloat()\n",
    "    return psize    \n",
    "        \n"
   ]
  },
  {
   "cell_type": "code",
   "execution_count": 31,
   "id": "following-marina",
   "metadata": {},
   "outputs": [
    {
     "name": "stdout",
     "output_type": "stream",
     "text": [
      "Enter the value of portfolio : 1000000\n"
     ]
    }
   ],
   "source": [
    "psize=enterSize()"
   ]
  },
  {
   "cell_type": "code",
   "execution_count": 32,
   "id": "weird-solid",
   "metadata": {},
   "outputs": [
    {
     "name": "stdout",
     "output_type": "stream",
     "text": [
      "1000000.0\n"
     ]
    }
   ],
   "source": [
    "print(psize)"
   ]
  },
  {
   "cell_type": "code",
   "execution_count": 33,
   "id": "sealed-register",
   "metadata": {},
   "outputs": [
    {
     "data": {
      "text/html": [
       "<div>\n",
       "<style scoped>\n",
       "    .dataframe tbody tr th:only-of-type {\n",
       "        vertical-align: middle;\n",
       "    }\n",
       "\n",
       "    .dataframe tbody tr th {\n",
       "        vertical-align: top;\n",
       "    }\n",
       "\n",
       "    .dataframe thead th {\n",
       "        text-align: right;\n",
       "    }\n",
       "</style>\n",
       "<table border=\"1\" class=\"dataframe\">\n",
       "  <thead>\n",
       "    <tr style=\"text-align: right;\">\n",
       "      <th></th>\n",
       "      <th>Ticker</th>\n",
       "      <th>StockPrice</th>\n",
       "      <th>MarketCap</th>\n",
       "      <th>NumStocksBuy</th>\n",
       "    </tr>\n",
       "  </thead>\n",
       "  <tbody>\n",
       "    <tr>\n",
       "      <th>0</th>\n",
       "      <td>A</td>\n",
       "      <td>127.12</td>\n",
       "      <td>39377158109</td>\n",
       "      <td>15</td>\n",
       "    </tr>\n",
       "    <tr>\n",
       "      <th>1</th>\n",
       "      <td>AAL</td>\n",
       "      <td>19.20</td>\n",
       "      <td>12424333250</td>\n",
       "      <td>103</td>\n",
       "    </tr>\n",
       "    <tr>\n",
       "      <th>2</th>\n",
       "      <td>AAP</td>\n",
       "      <td>172.22</td>\n",
       "      <td>11748895987</td>\n",
       "      <td>11</td>\n",
       "    </tr>\n",
       "    <tr>\n",
       "      <th>3</th>\n",
       "      <td>AAPL</td>\n",
       "      <td>130.28</td>\n",
       "      <td>2218903940435</td>\n",
       "      <td>15</td>\n",
       "    </tr>\n",
       "    <tr>\n",
       "      <th>4</th>\n",
       "      <td>ABBV</td>\n",
       "      <td>110.10</td>\n",
       "      <td>192732287986</td>\n",
       "      <td>17</td>\n",
       "    </tr>\n",
       "    <tr>\n",
       "      <th>...</th>\n",
       "      <td>...</td>\n",
       "      <td>...</td>\n",
       "      <td>...</td>\n",
       "      <td>...</td>\n",
       "    </tr>\n",
       "    <tr>\n",
       "      <th>500</th>\n",
       "      <td>YUM</td>\n",
       "      <td>109.38</td>\n",
       "      <td>33150197119</td>\n",
       "      <td>18</td>\n",
       "    </tr>\n",
       "    <tr>\n",
       "      <th>501</th>\n",
       "      <td>ZBH</td>\n",
       "      <td>163.37</td>\n",
       "      <td>32665976792</td>\n",
       "      <td>12</td>\n",
       "    </tr>\n",
       "    <tr>\n",
       "      <th>502</th>\n",
       "      <td>ZBRA</td>\n",
       "      <td>493.69</td>\n",
       "      <td>26395609827</td>\n",
       "      <td>4</td>\n",
       "    </tr>\n",
       "    <tr>\n",
       "      <th>503</th>\n",
       "      <td>ZION</td>\n",
       "      <td>54.30</td>\n",
       "      <td>8496597526</td>\n",
       "      <td>36</td>\n",
       "    </tr>\n",
       "    <tr>\n",
       "      <th>504</th>\n",
       "      <td>ZTS</td>\n",
       "      <td>166.00</td>\n",
       "      <td>77507031700</td>\n",
       "      <td>11</td>\n",
       "    </tr>\n",
       "  </tbody>\n",
       "</table>\n",
       "<p>505 rows × 4 columns</p>\n",
       "</div>"
      ],
      "text/plain": [
       "    Ticker  StockPrice      MarketCap  NumStocksBuy\n",
       "0        A      127.12    39377158109            15\n",
       "1      AAL       19.20    12424333250           103\n",
       "2      AAP      172.22    11748895987            11\n",
       "3     AAPL      130.28  2218903940435            15\n",
       "4     ABBV      110.10   192732287986            17\n",
       "..     ...         ...            ...           ...\n",
       "500    YUM      109.38    33150197119            18\n",
       "501    ZBH      163.37    32665976792            12\n",
       "502   ZBRA      493.69    26395609827             4\n",
       "503   ZION       54.30     8496597526            36\n",
       "504    ZTS      166.00    77507031700            11\n",
       "\n",
       "[505 rows x 4 columns]"
      ]
     },
     "execution_count": 33,
     "metadata": {},
     "output_type": "execute_result"
    }
   ],
   "source": [
    "position_size=psize/len(final_dataframe.index)\n",
    "for i in range(0,len(final_dataframe.index)):\n",
    "    final_dataframe.loc[i,'NumStocksBuy']=math.floor(position_size/final_dataframe.loc[i,'StockPrice'])\n",
    "final_dataframe"
   ]
  },
  {
   "cell_type": "code",
   "execution_count": 53,
   "id": "fifty-company",
   "metadata": {},
   "outputs": [],
   "source": [
    "writer=pd.ExcelWriter('recommended_trades.xlsx', engine='xlsxwriter')\n",
    "final_dataframe.to_excel(writer,'Recommended Trades',index=False)"
   ]
  },
  {
   "cell_type": "code",
   "execution_count": 54,
   "id": "important-turkey",
   "metadata": {},
   "outputs": [],
   "source": [
    "background_color='#0a0a23'\n",
    "font_color='#ffffff'\n",
    "string_format=writer.book.add_format(\n",
    "    {\n",
    "        'font_color':font_color,\n",
    "        'bg_color':background_color,\n",
    "        'border':1\n",
    "    }\n",
    ")\n",
    "\n",
    "dollar_format=writer.book.add_format(\n",
    "    {\n",
    "        'num_format':'$0.00',\n",
    "        'font_color':font_color,\n",
    "        'bg_color':background_color,\n",
    "        'border':1\n",
    "    }\n",
    ")\n",
    "\n",
    "integer_format=writer.book.add_format(\n",
    "    {\n",
    "        'num_format':'0',\n",
    "        'font_color':font_color,\n",
    "        'bg_color':background_color,\n",
    "        'border':1\n",
    "    }\n",
    ")\n"
   ]
  },
  {
   "cell_type": "code",
   "execution_count": 55,
   "id": "popular-living",
   "metadata": {},
   "outputs": [],
   "source": [
    "column_formats={\n",
    "    'A':['Ticker',string_format],\n",
    "    'B':['StockPrice',dollar_format],\n",
    "    'C':['MarketCap',dollar_format],\n",
    "    'D':['NumStocksBuy',integer_format]\n",
    "}"
   ]
  },
  {
   "cell_type": "code",
   "execution_count": 56,
   "id": "interim-basin",
   "metadata": {},
   "outputs": [],
   "source": [
    "for column in column_formats.keys():\n",
    "    writer.sheets['Recommended Trades'].set_column(f'{column}:{column}',22,column_formats[column][1])\n",
    "    writer.sheets['Recommended Trades'].write(f'{column}1',column_formats[column][0],column_formats[column][1])\n",
    "# writer.sheets['Recommended Trades'].write('A1','Ticker',string_format)\n",
    "# writer.sheets['Recommended Trades'].write('B1','StockPrice',dollar_format)\n",
    "# writer.sheets['Recommended Trades'].write('C1','MarketCap',dollar_format)\n",
    "# writer.sheets['Recommended Trades'].write('D1','NumStocksBuy',integer_format)"
   ]
  },
  {
   "cell_type": "code",
   "execution_count": 57,
   "id": "hungry-southeast",
   "metadata": {},
   "outputs": [],
   "source": [
    "writer.save()"
   ]
  },
  {
   "cell_type": "code",
   "execution_count": 51,
   "id": "damaged-lafayette",
   "metadata": {},
   "outputs": [
    {
     "name": "stdout",
     "output_type": "stream",
     "text": [
      "    Ticker  StockPrice      MarketCap  NumStocksBuy\n",
      "0        A      127.12    39377158109            15\n",
      "1      AAL       19.20    12424333250           103\n",
      "2      AAP      172.22    11748895987            11\n",
      "3     AAPL      130.28  2218903940435            15\n",
      "4     ABBV      110.10   192732287986            17\n",
      "..     ...         ...            ...           ...\n",
      "500    YUM      109.38    33150197119            18\n",
      "501    ZBH      163.37    32665976792            12\n",
      "502   ZBRA      493.69    26395609827             4\n",
      "503   ZION       54.30     8496597526            36\n",
      "504    ZTS      166.00    77507031700            11\n",
      "\n",
      "[505 rows x 4 columns]\n"
     ]
    }
   ],
   "source": [
    "print(final_dataframe)"
   ]
  },
  {
   "cell_type": "code",
   "execution_count": null,
   "id": "collectible-female",
   "metadata": {},
   "outputs": [],
   "source": []
  }
 ],
 "metadata": {
  "kernelspec": {
   "display_name": "Python 3",
   "language": "python",
   "name": "python3"
  },
  "language_info": {
   "codemirror_mode": {
    "name": "ipython",
    "version": 3
   },
   "file_extension": ".py",
   "mimetype": "text/x-python",
   "name": "python",
   "nbconvert_exporter": "python",
   "pygments_lexer": "ipython3",
   "version": "3.8.5"
  }
 },
 "nbformat": 4,
 "nbformat_minor": 5
}
